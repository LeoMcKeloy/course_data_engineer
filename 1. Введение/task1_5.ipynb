{
  "nbformat": 4,
  "nbformat_minor": 0,
  "metadata": {
    "colab": {
      "provenance": [],
      "collapsed_sections": []
    },
    "kernelspec": {
      "name": "python3",
      "display_name": "Python 3"
    },
    "language_info": {
      "name": "python"
    }
  },
  "cells": [
    {
      "cell_type": "code",
      "execution_count": 1,
      "metadata": {
        "id": "SnszBPCjsHhI"
      },
      "outputs": [],
      "source": [
        "import pandas as pd"
      ]
    },
    {
      "cell_type": "code",
      "source": [
        "df = pd.read_csv(\"./ds_salaries.csv\", index_col = \"Unnamed: 0\")\n",
        "print(round(df.groupby(\"job_title\").salary.mean(), 2))\n"
      ],
      "metadata": {
        "colab": {
          "base_uri": "https://localhost:8080/"
        },
        "id": "xR3SRPlxvHQx",
        "outputId": "4e09ed03-79de-4996-9b4b-d0a527cb88b5"
      },
      "execution_count": 24,
      "outputs": [
        {
          "output_type": "stream",
          "name": "stdout",
          "text": [
            "job_title\n",
            "3D Computer Vision Researcher                400000.00\n",
            "AI Scientist                                 290571.43\n",
            "Analytics Engineer                           175000.00\n",
            "Applied Data Scientist                       172400.00\n",
            "Applied Machine Learning Scientist           141350.00\n",
            "BI Data Analyst                             1902045.33\n",
            "Big Data Architect                           125000.00\n",
            "Big Data Engineer                            455000.00\n",
            "Business Data Analyst                        355000.00\n",
            "Cloud Data Engineer                          140000.00\n",
            "Computer Vision Engineer                      83500.00\n",
            "Computer Vision Software Engineer            100333.33\n",
            "Data Analyst                                  96604.96\n",
            "Data Analytics Engineer                       61750.00\n",
            "Data Analytics Lead                          405000.00\n",
            "Data Analytics Manager                       127134.29\n",
            "Data Architect                               177873.91\n",
            "Data Engineer                                179210.55\n",
            "Data Engineering Manager                     119799.80\n",
            "Data Science Consultant                      122714.29\n",
            "Data Science Engineer                         84500.00\n",
            "Data Science Manager                        1062598.58\n",
            "Data Scientist                               508347.20\n",
            "Data Specialist                              165000.00\n",
            "Director of Data Engineering                 141250.00\n",
            "Director of Data Science                     193285.71\n",
            "ETL Developer                                 50000.00\n",
            "Finance Data Analyst                          45000.00\n",
            "Financial Data Analyst                       275000.00\n",
            "Head of Data                                 156400.00\n",
            "Head of Data Science                         146718.75\n",
            "Head of Machine Learning                    6000000.00\n",
            "Lead Data Analyst                            569000.00\n",
            "Lead Data Engineer                           140333.33\n",
            "Lead Data Scientist                         1101666.67\n",
            "Lead Machine Learning Engineer                80000.00\n",
            "ML Engineer                                 2676666.67\n",
            "Machine Learning Developer                   100000.00\n",
            "Machine Learning Engineer                    272717.88\n",
            "Machine Learning Infrastructure Engineer      97333.33\n",
            "Machine Learning Manager                     157000.00\n",
            "Machine Learning Scientist                   158412.50\n",
            "Marketing Data Analyst                        75000.00\n",
            "NLP Engineer                                 240000.00\n",
            "Principal Data Analyst                       122500.00\n",
            "Principal Data Engineer                      328333.33\n",
            "Principal Data Scientist                     206714.29\n",
            "Product Data Analyst                         235000.00\n",
            "Research Scientist                           110493.69\n",
            "Staff Data Scientist                         105000.00\n",
            "Name: salary, dtype: float64\n"
          ]
        }
      ]
    },
    {
      "cell_type": "code",
      "source": [
        "print(df.groupby(\"job_title\").salary.median())"
      ],
      "metadata": {
        "colab": {
          "base_uri": "https://localhost:8080/"
        },
        "id": "T0i1SqhdxXM6",
        "outputId": "09834c5a-18a9-4310-9a6f-b275e5d5cf75"
      },
      "execution_count": 26,
      "outputs": [
        {
          "output_type": "stream",
          "name": "stdout",
          "text": [
            "job_title\n",
            "3D Computer Vision Researcher                400000.0\n",
            "AI Scientist                                 120000.0\n",
            "Analytics Engineer                           179850.0\n",
            "Applied Data Scientist                       157000.0\n",
            "Applied Machine Learning Scientist            56700.0\n",
            "BI Data Analyst                               99000.0\n",
            "Big Data Architect                           125000.0\n",
            "Big Data Engineer                             92500.0\n",
            "Business Data Analyst                        100000.0\n",
            "Cloud Data Engineer                          140000.0\n",
            "Computer Vision Engineer                      81000.0\n",
            "Computer Vision Software Engineer             81000.0\n",
            "Data Analyst                                  91000.0\n",
            "Data Analytics Engineer                       58500.0\n",
            "Data Analytics Lead                          405000.0\n",
            "Data Analytics Manager                       120000.0\n",
            "Data Architect                               180000.0\n",
            "Data Engineer                                110000.0\n",
            "Data Engineering Manager                     150000.0\n",
            "Data Science Consultant                       65000.0\n",
            "Data Science Engineer                         60000.0\n",
            "Data Science Manager                         167671.0\n",
            "Data Scientist                               120160.0\n",
            "Data Specialist                              165000.0\n",
            "Director of Data Engineering                 141250.0\n",
            "Director of Data Science                     168000.0\n",
            "ETL Developer                                 50000.0\n",
            "Finance Data Analyst                          45000.0\n",
            "Financial Data Analyst                       275000.0\n",
            "Head of Data                                 200000.0\n",
            "Head of Data Science                         138937.5\n",
            "Head of Machine Learning                    6000000.0\n",
            "Lead Data Analyst                            170000.0\n",
            "Lead Data Engineer                           137500.0\n",
            "Lead Data Scientist                          190000.0\n",
            "Lead Machine Learning Engineer                80000.0\n",
            "ML Engineer                                  263000.0\n",
            "Machine Learning Developer                   100000.0\n",
            "Machine Learning Engineer                    120000.0\n",
            "Machine Learning Infrastructure Engineer      53000.0\n",
            "Machine Learning Manager                     157000.0\n",
            "Machine Learning Scientist                   156500.0\n",
            "Marketing Data Analyst                        75000.0\n",
            "NLP Engineer                                 240000.0\n",
            "Principal Data Analyst                       122500.0\n",
            "Principal Data Engineer                      200000.0\n",
            "Principal Data Scientist                     151000.0\n",
            "Product Data Analyst                         235000.0\n",
            "Research Scientist                            74999.5\n",
            "Staff Data Scientist                         105000.0\n",
            "Name: salary, dtype: float64\n"
          ]
        }
      ]
    },
    {
      "cell_type": "code",
      "source": [
        "print(round(df.groupby(\"employee_residence\").salary.mean(), 2))"
      ],
      "metadata": {
        "colab": {
          "base_uri": "https://localhost:8080/"
        },
        "id": "g7SVPTnbz8Xn",
        "outputId": "25dbb0ee-7d59-4cff-8e35-3a7d22be62f5"
      },
      "execution_count": 40,
      "outputs": [
        {
          "output_type": "stream",
          "name": "stdout",
          "text": [
            "30400000.0\n"
          ]
        }
      ]
    },
    {
      "cell_type": "code",
      "source": [
        "print(df.groupby(\"employee_residence\").salary.median())"
      ],
      "metadata": {
        "colab": {
          "base_uri": "https://localhost:8080/"
        },
        "id": "Rkd4Im0w0XON",
        "outputId": "fb5b6b64-7145-410f-d395-066d90ad2337"
      },
      "execution_count": 29,
      "outputs": [
        {
          "output_type": "stream",
          "name": "stdout",
          "text": [
            "employee_residence\n",
            "AE      115000.0\n",
            "AR       60000.0\n",
            "AT       65000.0\n",
            "AU      121000.0\n",
            "BE       72500.0\n",
            "BG       80000.0\n",
            "BO       75000.0\n",
            "BR       84800.0\n",
            "CA      100000.0\n",
            "CH      115000.0\n",
            "CL    30400000.0\n",
            "CN      299000.0\n",
            "CO       21844.0\n",
            "CZ       69999.0\n",
            "DE       67000.0\n",
            "DK      240000.0\n",
            "DZ      100000.0\n",
            "EE       30000.0\n",
            "ES       45000.0\n",
            "FR       50000.0\n",
            "GB       60000.0\n",
            "GR       50000.0\n",
            "HK       48000.0\n",
            "HN       20000.0\n",
            "HR       40000.0\n",
            "HU    11000000.0\n",
            "IE       65000.0\n",
            "IN     1425000.0\n",
            "IQ      100000.0\n",
            "IR        4000.0\n",
            "IT       31600.0\n",
            "JE      100000.0\n",
            "JP      260000.0\n",
            "KE        9272.0\n",
            "LU       50000.0\n",
            "MD       18000.0\n",
            "MT       24000.0\n",
            "MX      389000.0\n",
            "MY      200000.0\n",
            "NG       30000.0\n",
            "NL       57000.0\n",
            "NZ      125000.0\n",
            "PH       45760.0\n",
            "PK       16000.0\n",
            "PL      130000.0\n",
            "PR      160000.0\n",
            "PT       47700.0\n",
            "RO       43500.0\n",
            "RS       21600.0\n",
            "RU       72500.0\n",
            "SG      140000.0\n",
            "SI       54000.0\n",
            "TN       29000.0\n",
            "TR      180000.0\n",
            "UA       13400.0\n",
            "US      139300.0\n",
            "VN       38400.0\n",
            "Name: salary, dtype: float64\n"
          ]
        }
      ]
    },
    {
      "cell_type": "code",
      "source": [
        "# print(df[df[\"salary\"] == max(df.groupby(\"job_title\").salary.max())].job_title)\n",
        "\n",
        "df_2 = pd.DataFrame(round(df.groupby(\"job_title\").salary.mean(), 2))\n",
        "print(df_2[df_2[\"salary\"] > 3000000])"
      ],
      "metadata": {
        "colab": {
          "base_uri": "https://localhost:8080/"
        },
        "id": "AD9j-P-60rET",
        "outputId": "0217104d-614f-45a2-c95e-1da55d784521"
      },
      "execution_count": 45,
      "outputs": [
        {
          "output_type": "stream",
          "name": "stdout",
          "text": [
            "                             salary\n",
            "job_title                          \n",
            "Head of Machine Learning  6000000.0\n"
          ]
        }
      ]
    },
    {
      "cell_type": "code",
      "source": [
        "df_3 = pd.DataFrame(df.groupby(\"employee_residence\").count())\n",
        "df_3"
      ],
      "metadata": {
        "id": "DuFQaHDe1wIB"
      },
      "execution_count": null,
      "outputs": []
    },
    {
      "cell_type": "code",
      "source": [
        "df_4 = pd.DataFrame(df, columns = [\"experience_level\", \"salary\"])\n",
        "df_4.corr().loc[\"salary\", \"experience_level\"]"
      ],
      "metadata": {
        "id": "FVQ9caud49if"
      },
      "execution_count": null,
      "outputs": []
    },
    {
      "cell_type": "code",
      "source": [
        "print(df.groupby(\"job_title\").job_title.count())"
      ],
      "metadata": {
        "colab": {
          "base_uri": "https://localhost:8080/"
        },
        "id": "3LOfR-Gl7DfZ",
        "outputId": "076b8888-6458-4f2e-e0c2-6aac705f5e53"
      },
      "execution_count": 71,
      "outputs": [
        {
          "output_type": "stream",
          "name": "stdout",
          "text": [
            "job_title\n",
            "3D Computer Vision Researcher                 1\n",
            "AI Scientist                                  7\n",
            "Analytics Engineer                            4\n",
            "Applied Data Scientist                        5\n",
            "Applied Machine Learning Scientist            4\n",
            "BI Data Analyst                               6\n",
            "Big Data Architect                            1\n",
            "Big Data Engineer                             8\n",
            "Business Data Analyst                         5\n",
            "Cloud Data Engineer                           2\n",
            "Computer Vision Engineer                      6\n",
            "Computer Vision Software Engineer             3\n",
            "Data Analyst                                 97\n",
            "Data Analytics Engineer                       4\n",
            "Data Analytics Lead                           1\n",
            "Data Analytics Manager                        7\n",
            "Data Architect                               11\n",
            "Data Engineer                               132\n",
            "Data Engineering Manager                      5\n",
            "Data Science Consultant                       7\n",
            "Data Science Engineer                         3\n",
            "Data Science Manager                         12\n",
            "Data Scientist                              143\n",
            "Data Specialist                               1\n",
            "Director of Data Engineering                  2\n",
            "Director of Data Science                      7\n",
            "ETL Developer                                 2\n",
            "Finance Data Analyst                          1\n",
            "Financial Data Analyst                        2\n",
            "Head of Data                                  5\n",
            "Head of Data Science                          4\n",
            "Head of Machine Learning                      1\n",
            "Lead Data Analyst                             3\n",
            "Lead Data Engineer                            6\n",
            "Lead Data Scientist                           3\n",
            "Lead Machine Learning Engineer                1\n",
            "ML Engineer                                   6\n",
            "Machine Learning Developer                    3\n",
            "Machine Learning Engineer                    41\n",
            "Machine Learning Infrastructure Engineer      3\n",
            "Machine Learning Manager                      1\n",
            "Machine Learning Scientist                    8\n",
            "Marketing Data Analyst                        1\n",
            "NLP Engineer                                  1\n",
            "Principal Data Analyst                        2\n",
            "Principal Data Engineer                       3\n",
            "Principal Data Scientist                      7\n",
            "Product Data Analyst                          2\n",
            "Research Scientist                           16\n",
            "Staff Data Scientist                          1\n",
            "Name: job_title, dtype: int64\n"
          ]
        }
      ]
    },
    {
      "cell_type": "code",
      "source": [
        "df_5 = pd.DataFrame(df.groupby(\"job_title\").job_title.count())\n",
        "df_5[df_5[\"job_title\"] > 9]"
      ],
      "metadata": {
        "colab": {
          "base_uri": "https://localhost:8080/",
          "height": 300
        },
        "id": "_CxmZL7a8g8f",
        "outputId": "dd856254-99f9-40f3-f041-b2df3971f838"
      },
      "execution_count": 73,
      "outputs": [
        {
          "output_type": "execute_result",
          "data": {
            "text/plain": [
              "                           job_title\n",
              "job_title                           \n",
              "Data Analyst                      97\n",
              "Data Architect                    11\n",
              "Data Engineer                    132\n",
              "Data Science Manager              12\n",
              "Data Scientist                   143\n",
              "Machine Learning Engineer         41\n",
              "Research Scientist                16"
            ],
            "text/html": [
              "\n",
              "  <div id=\"df-03c730fe-b795-40f1-a995-e2019e78966b\">\n",
              "    <div class=\"colab-df-container\">\n",
              "      <div>\n",
              "<style scoped>\n",
              "    .dataframe tbody tr th:only-of-type {\n",
              "        vertical-align: middle;\n",
              "    }\n",
              "\n",
              "    .dataframe tbody tr th {\n",
              "        vertical-align: top;\n",
              "    }\n",
              "\n",
              "    .dataframe thead th {\n",
              "        text-align: right;\n",
              "    }\n",
              "</style>\n",
              "<table border=\"1\" class=\"dataframe\">\n",
              "  <thead>\n",
              "    <tr style=\"text-align: right;\">\n",
              "      <th></th>\n",
              "      <th>job_title</th>\n",
              "    </tr>\n",
              "    <tr>\n",
              "      <th>job_title</th>\n",
              "      <th></th>\n",
              "    </tr>\n",
              "  </thead>\n",
              "  <tbody>\n",
              "    <tr>\n",
              "      <th>Data Analyst</th>\n",
              "      <td>97</td>\n",
              "    </tr>\n",
              "    <tr>\n",
              "      <th>Data Architect</th>\n",
              "      <td>11</td>\n",
              "    </tr>\n",
              "    <tr>\n",
              "      <th>Data Engineer</th>\n",
              "      <td>132</td>\n",
              "    </tr>\n",
              "    <tr>\n",
              "      <th>Data Science Manager</th>\n",
              "      <td>12</td>\n",
              "    </tr>\n",
              "    <tr>\n",
              "      <th>Data Scientist</th>\n",
              "      <td>143</td>\n",
              "    </tr>\n",
              "    <tr>\n",
              "      <th>Machine Learning Engineer</th>\n",
              "      <td>41</td>\n",
              "    </tr>\n",
              "    <tr>\n",
              "      <th>Research Scientist</th>\n",
              "      <td>16</td>\n",
              "    </tr>\n",
              "  </tbody>\n",
              "</table>\n",
              "</div>\n",
              "      <button class=\"colab-df-convert\" onclick=\"convertToInteractive('df-03c730fe-b795-40f1-a995-e2019e78966b')\"\n",
              "              title=\"Convert this dataframe to an interactive table.\"\n",
              "              style=\"display:none;\">\n",
              "        \n",
              "  <svg xmlns=\"http://www.w3.org/2000/svg\" height=\"24px\"viewBox=\"0 0 24 24\"\n",
              "       width=\"24px\">\n",
              "    <path d=\"M0 0h24v24H0V0z\" fill=\"none\"/>\n",
              "    <path d=\"M18.56 5.44l.94 2.06.94-2.06 2.06-.94-2.06-.94-.94-2.06-.94 2.06-2.06.94zm-11 1L8.5 8.5l.94-2.06 2.06-.94-2.06-.94L8.5 2.5l-.94 2.06-2.06.94zm10 10l.94 2.06.94-2.06 2.06-.94-2.06-.94-.94-2.06-.94 2.06-2.06.94z\"/><path d=\"M17.41 7.96l-1.37-1.37c-.4-.4-.92-.59-1.43-.59-.52 0-1.04.2-1.43.59L10.3 9.45l-7.72 7.72c-.78.78-.78 2.05 0 2.83L4 21.41c.39.39.9.59 1.41.59.51 0 1.02-.2 1.41-.59l7.78-7.78 2.81-2.81c.8-.78.8-2.07 0-2.86zM5.41 20L4 18.59l7.72-7.72 1.47 1.35L5.41 20z\"/>\n",
              "  </svg>\n",
              "      </button>\n",
              "      \n",
              "  <style>\n",
              "    .colab-df-container {\n",
              "      display:flex;\n",
              "      flex-wrap:wrap;\n",
              "      gap: 12px;\n",
              "    }\n",
              "\n",
              "    .colab-df-convert {\n",
              "      background-color: #E8F0FE;\n",
              "      border: none;\n",
              "      border-radius: 50%;\n",
              "      cursor: pointer;\n",
              "      display: none;\n",
              "      fill: #1967D2;\n",
              "      height: 32px;\n",
              "      padding: 0 0 0 0;\n",
              "      width: 32px;\n",
              "    }\n",
              "\n",
              "    .colab-df-convert:hover {\n",
              "      background-color: #E2EBFA;\n",
              "      box-shadow: 0px 1px 2px rgba(60, 64, 67, 0.3), 0px 1px 3px 1px rgba(60, 64, 67, 0.15);\n",
              "      fill: #174EA6;\n",
              "    }\n",
              "\n",
              "    [theme=dark] .colab-df-convert {\n",
              "      background-color: #3B4455;\n",
              "      fill: #D2E3FC;\n",
              "    }\n",
              "\n",
              "    [theme=dark] .colab-df-convert:hover {\n",
              "      background-color: #434B5C;\n",
              "      box-shadow: 0px 1px 3px 1px rgba(0, 0, 0, 0.15);\n",
              "      filter: drop-shadow(0px 1px 2px rgba(0, 0, 0, 0.3));\n",
              "      fill: #FFFFFF;\n",
              "    }\n",
              "  </style>\n",
              "\n",
              "      <script>\n",
              "        const buttonEl =\n",
              "          document.querySelector('#df-03c730fe-b795-40f1-a995-e2019e78966b button.colab-df-convert');\n",
              "        buttonEl.style.display =\n",
              "          google.colab.kernel.accessAllowed ? 'block' : 'none';\n",
              "\n",
              "        async function convertToInteractive(key) {\n",
              "          const element = document.querySelector('#df-03c730fe-b795-40f1-a995-e2019e78966b');\n",
              "          const dataTable =\n",
              "            await google.colab.kernel.invokeFunction('convertToInteractive',\n",
              "                                                     [key], {});\n",
              "          if (!dataTable) return;\n",
              "\n",
              "          const docLinkHtml = 'Like what you see? Visit the ' +\n",
              "            '<a target=\"_blank\" href=https://colab.research.google.com/notebooks/data_table.ipynb>data table notebook</a>'\n",
              "            + ' to learn more about interactive tables.';\n",
              "          element.innerHTML = '';\n",
              "          dataTable['output_type'] = 'display_data';\n",
              "          await google.colab.output.renderOutput(dataTable, element);\n",
              "          const docLink = document.createElement('div');\n",
              "          docLink.innerHTML = docLinkHtml;\n",
              "          element.appendChild(docLink);\n",
              "        }\n",
              "      </script>\n",
              "    </div>\n",
              "  </div>\n",
              "  "
            ]
          },
          "metadata": {},
          "execution_count": 73
        }
      ]
    }
  ]
}